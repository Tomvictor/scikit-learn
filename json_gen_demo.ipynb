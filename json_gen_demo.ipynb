{
 "cells": [
  {
   "cell_type": "code",
   "execution_count": 16,
   "metadata": {
    "slideshow": {
     "slide_type": "slide"
    }
   },
   "outputs": [
    {
     "name": "stdout",
     "output_type": "stream",
     "text": [
      "starting...\n",
      "data :\n",
      "{'authenticated': 'True', 'count': 18}\n",
      "array\n",
      "[]\n",
      "objects: \n",
      "[{'age': 18, 'name': 'Tom'}, {'age': 15, 'name': 'Don'}, {'age': 20, 'name': 'Arun'}]\n",
      "{'students': [{'age': 18, 'name': 'Tom'}, {'age': 15, 'name': 'Don'}, {'age': 20, 'name': 'Arun'}], 'authenticated': 'True', 'count': 18}\n",
      "{\"students\": [{\"age\": 18, \"name\": \"Tom\"}, {\"age\": 15, \"name\": \"Don\"}, {\"age\": 20, \"name\": \"Arun\"}], \"authenticated\": \"True\", \"count\": 18}\n"
     ]
    }
   ],
   "source": [
    "import json\n",
    "\n",
    "print(\"starting...\")\n",
    "\n",
    "data = {}\n",
    "data[\"authenticated\"] = \"True\"\n",
    "data[\"count\"] = 18\n",
    "print(\"data :\")\n",
    "print(data)\n",
    "print(\"array\")\n",
    "print(array)\n",
    "objects = [\n",
    "    {\"name\":\"Tom\",\"age\":18},\n",
    "    {\"name\":\"Don\",\"age\":15},\n",
    "    {\"name\":\"Arun\",\"age\":20}\n",
    "]\n",
    "print(\"objects: \")\n",
    "print(objects)\n",
    "data[\"students\"] = objects\n",
    "print(data)\n",
    "jsonData = json.dumps(data)\n",
    "print(jsonData)"
   ]
  }
 ],
 "metadata": {
  "celltoolbar": "Slideshow",
  "kernelspec": {
   "display_name": "Python 3",
   "language": "python",
   "name": "python3"
  },
  "language_info": {
   "codemirror_mode": {
    "name": "ipython",
    "version": 3
   },
   "file_extension": ".py",
   "mimetype": "text/x-python",
   "name": "python",
   "nbconvert_exporter": "python",
   "pygments_lexer": "ipython3",
   "version": "3.5.2"
  }
 },
 "nbformat": 4,
 "nbformat_minor": 2
}
